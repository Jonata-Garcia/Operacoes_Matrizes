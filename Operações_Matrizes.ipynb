{
  "nbformat": 4,
  "nbformat_minor": 0,
  "metadata": {
    "colab": {
      "provenance": [],
      "authorship_tag": "ABX9TyPUKFPkEo0vXfzxE/oyeMrW",
      "include_colab_link": true
    },
    "kernelspec": {
      "name": "python3",
      "display_name": "Python 3"
    },
    "language_info": {
      "name": "python"
    }
  },
  "cells": [
    {
      "cell_type": "markdown",
      "metadata": {
        "id": "view-in-github",
        "colab_type": "text"
      },
      "source": [
        "<a href=\"https://colab.research.google.com/github/Jonata-Garcia/Operacoes_Matrizes/blob/main/Opera%C3%A7%C3%B5es_Matrizes.ipynb\" target=\"_parent\"><img src=\"https://colab.research.google.com/assets/colab-badge.svg\" alt=\"Open In Colab\"/></a>"
      ]
    },
    {
      "cell_type": "markdown",
      "source": [
        "##OPERAÇÃO DE MATRIZES\n",
        "\n",
        "Dada a Matriz A e a Matrz B abaixo, calcule:\n",
        "\n",
        "1. A soma das duas matrizes *C* = *A* + *B*\n",
        "2. O produto elemento a elemento *D* = *A* x *B*\n",
        "3. O produto matricial E = *A* x *B*\n",
        "4. A Soma de todos os elementos da matriz *C*\n",
        "5. A transposta da matriz *D*\n",
        "6. O valor máximo e mínino da matriz *E*"
      ],
      "metadata": {
        "id": "vUd0F_LmHd99"
      }
    },
    {
      "cell_type": "code",
      "execution_count": 1,
      "metadata": {
        "colab": {
          "base_uri": "https://localhost:8080/"
        },
        "id": "tIZU17i1HVSG",
        "outputId": "468419bc-a592-4625-e5c7-d18d6c060e10"
      },
      "outputs": [
        {
          "output_type": "stream",
          "name": "stdout",
          "text": [
            "Matriz C (A + B):\n",
            " [[10 10 10]\n",
            " [10 10 10]\n",
            " [10 10 10]]\n",
            "Matriz D (A * B elemento a elemento):\n",
            " [[ 9 16 21]\n",
            " [24 25 24]\n",
            " [21 16  9]]\n",
            "Matriz E (A * B produto matricial):\n",
            " [[ 30  24  18]\n",
            " [ 84  69  54]\n",
            " [138 114  90]]\n",
            "Soma de todos os elementos de C: 90\n",
            "Transposta da matriz D:\n",
            " [[ 9 24 21]\n",
            " [16 25 16]\n",
            " [21 24  9]]\n",
            "Valor máximo de E: 138\n",
            "Valor mínimo de E: 18\n"
          ]
        }
      ],
      "source": [
        "import numpy as np\n",
        "\n",
        "# Matrizes A e B\n",
        "A = np.array([[1, 2, 3], [4, 5, 6], [7, 8, 9]])\n",
        "B = np.array([[9, 8, 7], [6, 5, 4], [3, 2, 1]])\n",
        "\n",
        "# 1. Soma das matrizes C = A + B\n",
        "C = A + B\n",
        "print(\"Matriz C (A + B):\\n\", C)\n",
        "\n",
        "# 2. Produto elemento a elemento D = A * B\n",
        "D = A * B\n",
        "print(\"Matriz D (A * B elemento a elemento):\\n\", D)\n",
        "\n",
        "# 3. Produto matricial E = A @ B\n",
        "E = np.dot(A, B)\n",
        "print(\"Matriz E (A * B produto matricial):\\n\", E)\n",
        "\n",
        "# 4. Soma de todos os elementos da matriz C\n",
        "soma_C = np.sum(C)\n",
        "print(\"Soma de todos os elementos de C:\", soma_C)\n",
        "\n",
        "# 5. Transposta da matriz D\n",
        "D_transposta = D.T\n",
        "print(\"Transposta da matriz D:\\n\", D_transposta)\n",
        "\n",
        "# 6. Valor máximo e mínimo da matriz E\n",
        "max_E = np.max(E)\n",
        "min_E = np.min(E)\n",
        "print(\"Valor máximo de E:\", max_E)\n",
        "print(\"Valor mínimo de E:\", min_E)\n"
      ]
    }
  ]
}